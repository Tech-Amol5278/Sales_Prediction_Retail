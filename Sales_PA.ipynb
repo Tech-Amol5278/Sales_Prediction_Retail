{
  "nbformat": 4,
  "nbformat_minor": 0,
  "metadata": {
    "colab": {
      "provenance": [],
      "authorship_tag": "ABX9TyNvLixorWqFsw6akXsHchjs",
      "include_colab_link": true
    },
    "kernelspec": {
      "name": "python3",
      "display_name": "Python 3"
    },
    "language_info": {
      "name": "python"
    }
  },
  "cells": [
    {
      "cell_type": "markdown",
      "metadata": {
        "id": "view-in-github",
        "colab_type": "text"
      },
      "source": [
        "<a href=\"https://colab.research.google.com/github/Tech-Amol5278/Sales_Prediction_Retail/blob/main/Sales_PA.ipynb\" target=\"_parent\"><img src=\"https://colab.research.google.com/assets/colab-badge.svg\" alt=\"Open In Colab\"/></a>"
      ]
    },
    {
      "cell_type": "code",
      "execution_count": 5,
      "metadata": {
        "id": "je3gqYBijh9k"
      },
      "outputs": [],
      "source": [
        "import numpy as np\n",
        "import pandas as pd"
      ]
    },
    {
      "cell_type": "code",
      "source": [
        "train = pd.read_csv(\"https://raw.githubusercontent.com/Tech-Amol5278/Sales_Prediction_Retail/main/train_data.csv\")\n",
        "price = pd.read_csv(\"https://raw.githubusercontent.com/Tech-Amol5278/Sales_Prediction_Retail/main/product_prices.csv\")\n",
        "week_map = pd.read_csv(\"https://raw.githubusercontent.com/Tech-Amol5278/Sales_Prediction_Retail/main/date_to_week_id_map.csv\")\n",
        "test = pd.read_csv(\"https://raw.githubusercontent.com/Tech-Amol5278/Sales_Prediction_Retail/main/test_data.csv\")\n"
      ],
      "metadata": {
        "id": "cbA_F8thjk7E"
      },
      "execution_count": 16,
      "outputs": []
    },
    {
      "cell_type": "code",
      "source": [
        "print(f\"Shape for train >> {train.shape}\")\n",
        "print(f\"Shape for price >> {price.shape}\")\n",
        "print(f\"Shape for week_map >> {week_map.shape}\")\n",
        "print(f\"Shape for test >> {test.shape}\")\n"
      ],
      "metadata": {
        "colab": {
          "base_uri": "https://localhost:8080/"
        },
        "id": "XuQEiq8rk2vs",
        "outputId": "e54e2e0d-dc6f-48ec-c544-ff08df7df900"
      },
      "execution_count": 17,
      "outputs": [
        {
          "output_type": "stream",
          "name": "stdout",
          "text": [
            "Shape for train >> (395000, 7)\n",
            "Shape for price >> (59000, 4)\n",
            "Shape for week_map >> (821, 2)\n",
            "Shape for test >> (15500, 7)\n"
          ]
        }
      ]
    },
    {
      "cell_type": "code",
      "source": [
        "print('train cols >> ', train.columns)\n",
        "print('price cols >> ', price.columns)\n",
        "\n",
        "\n"
      ],
      "metadata": {
        "id": "X8n3GqKXk9Cd",
        "colab": {
          "base_uri": "https://localhost:8080/"
        },
        "outputId": "5fa7f350-d276-417a-8be3-9975131dfd19"
      },
      "execution_count": 18,
      "outputs": [
        {
          "output_type": "stream",
          "name": "stdout",
          "text": [
            "train cols >>  Index(['date', 'product_identifier', 'department_identifier',\n",
            "       'category_of_product', 'outlet', 'state', 'sales'],\n",
            "      dtype='object')\n",
            "price cols >>  Index(['outlet', 'product_identifier', 'week_id', 'sell_price'], dtype='object')\n"
          ]
        }
      ]
    },
    {
      "cell_type": "code",
      "source": [
        "# train.merge(price[['product_identifier','week_id', 'sell_price']],on=['product_identifier'],how='left')\n",
        "\n",
        "# Merge requires additional memory to execute on th datasets included, we will use join \n",
        "\n",
        "\n",
        "train.set_index(['product_identifier'],inplace=True)\n",
        "price.set_index(['product_identifier],inplace=True)\n",
        "\n",
        "\n",
        "print(f\"Shape for train >> {train.shape}\")\n",
        "print(f\"Shape for price >> {price.shape}\")"
      ],
      "metadata": {
        "id": "C6qw1ErJ0DZC",
        "outputId": "91992e4c-c1a0-4499-ad58-606aafb8e6d8",
        "colab": {
          "base_uri": "https://localhost:8080/"
        }
      },
      "execution_count": 19,
      "outputs": [
        {
          "output_type": "stream",
          "name": "stdout",
          "text": [
            "Shape for train >> (395000, 6)\n",
            "Shape for price >> (59000, 3)\n"
          ]
        }
      ]
    },
    {
      "cell_type": "code",
      "source": [
        "df = train.join(price,how='left')"
      ],
      "metadata": {
        "id": "3H2RvRDm0ffE"
      },
      "execution_count": null,
      "outputs": []
    },
    {
      "cell_type": "code",
      "source": [],
      "metadata": {
        "id": "uaXyPxE15obP"
      },
      "execution_count": null,
      "outputs": []
    }
  ]
}